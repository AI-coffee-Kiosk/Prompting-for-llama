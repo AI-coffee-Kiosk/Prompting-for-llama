{
  "nbformat": 4,
  "nbformat_minor": 0,
  "metadata": {
    "colab": {
      "provenance": []
    },
    "kernelspec": {
      "name": "python3",
      "display_name": "Python 3"
    },
    "language_info": {
      "name": "python"
    }
  },
  "cells": [
    {
      "cell_type": "code",
      "execution_count": null,
      "metadata": {
        "id": "yojXk06x_68b"
      },
      "outputs": [],
      "source": [
        "# 트랜스포머\n",
        "!pip install transformers\n",
        "!pip install torch\n",
        "!pip install huggingface_hub"
      ]
    },
    {
      "cell_type": "code",
      "source": [
        "!pip install --upgrade transformers\n",
        "!pip install --upgrade torch\n"
      ],
      "metadata": {
        "id": "n2HR3r7GJ9oE"
      },
      "execution_count": null,
      "outputs": []
    },
    {
      "cell_type": "markdown",
      "source": [
        "각자 생성한 huggingface access token 입력\n"
      ],
      "metadata": {
        "id": "OSs0mpHsflYA"
      }
    },
    {
      "cell_type": "code",
      "source": [
        "from huggingface_hub import login\n",
        "\n",
        "# Use your Hugging Face token here\n",
        "login(\"input token\", add_to_git_credential=True)"
      ],
      "metadata": {
        "colab": {
          "base_uri": "https://localhost:8080/"
        },
        "id": "LB1ymVdWd9_k",
        "outputId": "6b4f2111-e01f-470e-e620-4a316dbeda75"
      },
      "execution_count": null,
      "outputs": [
        {
          "output_type": "stream",
          "name": "stdout",
          "text": [
            "Token is valid (permission: fineGrained).\n",
            "Your token has been saved in your configured git credential helpers (store).\n",
            "Your token has been saved to /root/.cache/huggingface/token\n",
            "Login successful\n"
          ]
        }
      ]
    },
    {
      "cell_type": "code",
      "source": [
        "# Load model directly\n",
        "from transformers import AutoTokenizer, AutoModelForCausalLM\n",
        "\n",
        "tokenizer = AutoTokenizer.from_pretrained(\"meta-llama/Llama-3.2-1B-Instruct\")\n",
        "model = AutoModelForCausalLM.from_pretrained(\"meta-llama/Llama-3.2-1B-Instruct\")"
      ],
      "metadata": {
        "id": "UYcgWF8cCJEC"
      },
      "execution_count": null,
      "outputs": []
    },
    {
      "cell_type": "code",
      "source": [
        "# Use a pipeline as a high-level helper\n",
        "from transformers import pipeline\n",
        "\n",
        "messages = [\n",
        "\n",
        "    {\"role\": \"user\", \"content\": \"최근 비트코인이 1억 갔는데, 어떻게 생각하니?\"},\n",
        "]\n",
        "pipe = pipeline(\"text-generation\", model=\"meta-llama/Llama-3.2-1B-Instruct\", max_length=200)\n",
        "pipe(messages)"
      ],
      "metadata": {
        "id": "qurF9lvhN9Po"
      },
      "execution_count": null,
      "outputs": []
    }
  ]
}